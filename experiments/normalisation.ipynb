{
 "cells": [
  {
   "cell_type": "code",
   "execution_count": 1,
   "metadata": {},
   "outputs": [],
   "source": [
    "%reload_ext autoreload\n",
    "%autoreload 2"
   ]
  },
  {
   "cell_type": "code",
   "execution_count": 6,
   "metadata": {},
   "outputs": [],
   "source": [
    "from pathlib import Path\n",
    "from matplotlib import pyplot as plt\n",
    "from IPython.display import Audio, display\n",
    "import sys\n",
    "import numpy as np\n",
    "import soundfile as sf\n",
    "\n",
    "sys.path.append(\"..\")\n",
    "\n",
    "from generate_stems import load_sample, generate_stems, validate_stems, save_stems, B"
   ]
  },
  {
   "cell_type": "code",
   "execution_count": 7,
   "metadata": {},
   "outputs": [],
   "source": [
    "def plot_signal(samples):\n",
    "    \"\"\"\n",
    "    Plots the given signal samples.\n",
    "\n",
    "    Parameters:\n",
    "    - samples: numpy.ndarray\n",
    "        The signal samples to be plotted.\n",
    "\n",
    "    Returns:\n",
    "    None\n",
    "    \"\"\"\n",
    "    if samples.ndim == 1:\n",
    "        _, ax = plt.subplots(1, 1, figsize=(12, 3))\n",
    "        ax.plot(samples, color=\"gray\", lw=0.5)\n",
    "        ax.set_xlabel(\"Sample\")\n",
    "        ax.set_ylabel(\"Amplitude\")\n",
    "        ax.spines[\"top\"].set_visible(False)\n",
    "        ax.spines[\"right\"].set_visible(False)\n",
    "        ax.set_xlim(0, len(samples))\n",
    "        ax.set_ylim(-B, B)\n",
    "\n",
    "    if samples.ndim == 2:\n",
    "        _, axes = plt.subplots(2, 1, figsize=(12, 6))\n",
    "\n",
    "        # Plot the signals with each channel separated on the y-axis\n",
    "        axes[0].plot(samples[:, 0], label=\"Left channel\", color=\"gray\", lw=0.5)\n",
    "        axes[0].set_ylabel(\"L\", rotation=0, size=\"large\")\n",
    "        axes[0].spines[\"top\"].set_visible(False)\n",
    "        axes[0].spines[\"right\"].set_visible(False)\n",
    "        axes[0].spines[\"bottom\"].set_visible(False)\n",
    "        axes[0].set_xticks([])  # Remove x ticks\n",
    "\n",
    "        axes[1].plot(samples[:, 1], label=\"Right channel\", color=\"gray\", lw=0.5)\n",
    "        axes[1].set_xlabel(\"Sample\")\n",
    "        axes[1].set_ylabel(\"R\", rotation=0, size=\"large\")\n",
    "        axes[1].spines[\"top\"].set_visible(False)\n",
    "        axes[1].spines[\"right\"].set_visible(False)\n",
    "\n",
    "\n",
    "def display_clips(clips, sample_rate):\n",
    "    \"\"\"\n",
    "    Display audio clips.\n",
    "\n",
    "    Args:\n",
    "        clips (list or ndarray): List of audio clips or a single audio clip of shape (samples, 2) for stereo or (samples,) for mono.\n",
    "        sample_rate (int): Sample rate of the audio clips.\n",
    "\n",
    "    Returns:\n",
    "        None\n",
    "    \"\"\"\n",
    "    if clips.ndim == 2:\n",
    "        display(Audio(clips.T, rate=sample_rate))\n",
    "    elif clips.ndim == 3:\n",
    "        for clip in clips:\n",
    "            display(Audio(clip.T, rate=sample_rate))"
   ]
  },
  {
   "cell_type": "code",
   "execution_count": 8,
   "metadata": {},
   "outputs": [],
   "source": [
    "SAMPLE = Path(\"../samples/amen_stereo.wav\")\n",
    "assert SAMPLE.exists()\n",
    "\n",
    "OUT = Path(\"../output\")\n",
    "assert OUT.exists()"
   ]
  },
  {
   "cell_type": "code",
   "execution_count": 31,
   "metadata": {},
   "outputs": [
    {
     "data": {
      "text/plain": [
       "array([[1913, 4709],\n",
       "       [1837, 5427],\n",
       "       [1563, 6253],\n",
       "       ...,\n",
       "       [2886, 4586],\n",
       "       [2220, 3107],\n",
       "       [1409, 1447]], dtype=int16)"
      ]
     },
     "execution_count": 31,
     "metadata": {},
     "output_type": "execute_result"
    }
   ],
   "source": [
    "samples, sample_rate = sf.read(SAMPLE, dtype=\"int16\")\n",
    "samples"
   ]
  },
  {
   "cell_type": "code",
   "execution_count": 40,
   "metadata": {},
   "outputs": [
    {
     "data": {
      "text/plain": [
       "(32374, -27690)"
      ]
     },
     "execution_count": 40,
     "metadata": {},
     "output_type": "execute_result"
    }
   ],
   "source": [
    "samples.max(), samples.min()"
   ]
  },
  {
   "cell_type": "code",
   "execution_count": 24,
   "metadata": {},
   "outputs": [],
   "source": [
    "normed_samples = ((samples / np.abs(samples).max()) * B).astype(\"int16\")"
   ]
  },
  {
   "cell_type": "code",
   "execution_count": 26,
   "metadata": {},
   "outputs": [
    {
     "data": {
      "text/plain": [
       "(-28026, 32767)"
      ]
     },
     "execution_count": 26,
     "metadata": {},
     "output_type": "execute_result"
    }
   ],
   "source": [
    "normed_samples.min(), normed_samples.max()"
   ]
  },
  {
   "cell_type": "code",
   "execution_count": 33,
   "metadata": {},
   "outputs": [],
   "source": [
    "save_stems(samples[None], sample_rate, OUT, \"amen_stereo\")"
   ]
  },
  {
   "cell_type": "code",
   "execution_count": 41,
   "metadata": {},
   "outputs": [
    {
     "data": {
      "text/plain": [
       "-27690"
      ]
     },
     "execution_count": 41,
     "metadata": {},
     "output_type": "execute_result"
    }
   ],
   "source": [
    "sf.read(\n",
    "    \"/Users/JBremner/Documents/docs/projects/noise-stem/output/amen_stereo - 001.wav\",\n",
    "    dtype=\"int16\",\n",
    ")[0].min()"
   ]
  },
  {
   "cell_type": "code",
   "execution_count": 17,
   "metadata": {},
   "outputs": [
    {
     "data": {
      "text/plain": [
       "(32374, -27690)"
      ]
     },
     "execution_count": 17,
     "metadata": {},
     "output_type": "execute_result"
    }
   ],
   "source": [
    "samples.max(), samples.min()"
   ]
  },
  {
   "cell_type": "code",
   "execution_count": 42,
   "metadata": {},
   "outputs": [
    {
     "data": {
      "text/plain": [
       "32767"
      ]
     },
     "execution_count": 42,
     "metadata": {},
     "output_type": "execute_result"
    }
   ],
   "source": [
    "B"
   ]
  },
  {
   "cell_type": "code",
   "execution_count": 27,
   "metadata": {},
   "outputs": [],
   "source": [
    "stems = generate_stems(samples, 2)"
   ]
  },
  {
   "cell_type": "code",
   "execution_count": 28,
   "metadata": {},
   "outputs": [
    {
     "data": {
      "text/plain": [
       "(2, 668596, 2)"
      ]
     },
     "execution_count": 28,
     "metadata": {},
     "output_type": "execute_result"
    }
   ],
   "source": [
    "stems.shape"
   ]
  },
  {
   "cell_type": "code",
   "execution_count": 29,
   "metadata": {},
   "outputs": [
    {
     "data": {
      "text/plain": [
       "(-32767, 32766)"
      ]
     },
     "execution_count": 29,
     "metadata": {},
     "output_type": "execute_result"
    }
   ],
   "source": [
    "stems[0].min(), stems[0].max()"
   ]
  },
  {
   "cell_type": "code",
   "execution_count": 30,
   "metadata": {},
   "outputs": [],
   "source": [
    "save_stems(stems[0], sample_rate, OUT, \"amen_stereo_stems\")"
   ]
  }
 ],
 "metadata": {
  "kernelspec": {
   "display_name": "noise-stem",
   "language": "python",
   "name": "python3"
  },
  "language_info": {
   "codemirror_mode": {
    "name": "ipython",
    "version": 3
   },
   "file_extension": ".py",
   "mimetype": "text/x-python",
   "name": "python",
   "nbconvert_exporter": "python",
   "pygments_lexer": "ipython3",
   "version": "3.8.18"
  }
 },
 "nbformat": 4,
 "nbformat_minor": 2
}
