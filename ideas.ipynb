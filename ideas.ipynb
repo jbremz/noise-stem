{
 "cells": [
  {
   "cell_type": "markdown",
   "metadata": {},
   "source": [
    "My idea here is to explore a function that generates two stems, one for L ear/speaker and one for R ear/speaker and then I can play around with the resulting stereo file.\n",
    "\n",
    "Making it mono should return the original track which is fun.\n",
    "\n",
    "One can do interesting experiments with physical space cancelling too."
   ]
  },
  {
   "cell_type": "code",
   "execution_count": null,
   "metadata": {},
   "outputs": [],
   "source": [
    "from pathlib import Path\n",
    "from matplotlib import pyplot as plt\n",
    "from IPython.display import Audio, display\n",
    "\n",
    "from generate_stems import load_sample, generate_stems, validate_stems, save_stems"
   ]
  },
  {
   "cell_type": "code",
   "execution_count": null,
   "metadata": {},
   "outputs": [],
   "source": [
    "SAMPLE = Path(\"/Users/JBremner/Music/Converted by MediaHuman/Kowklo_4424_MasterA.wav\")\n",
    "OUT = Path(\"/Users/JBremner/Desktop\")\n",
    "OUT.mkdir(exist_ok=True)"
   ]
  },
  {
   "cell_type": "code",
   "execution_count": null,
   "metadata": {},
   "outputs": [],
   "source": [
    "samples, sample_rate = load_sample(SAMPLE)"
   ]
  },
  {
   "cell_type": "code",
   "execution_count": null,
   "metadata": {},
   "outputs": [],
   "source": [
    "samples.shape"
   ]
  },
  {
   "cell_type": "code",
   "execution_count": null,
   "metadata": {},
   "outputs": [],
   "source": [
    "stems = generate_stems(samples, 2)"
   ]
  },
  {
   "cell_type": "code",
   "execution_count": null,
   "metadata": {},
   "outputs": [],
   "source": [
    "stems.shape"
   ]
  },
  {
   "cell_type": "code",
   "execution_count": null,
   "metadata": {},
   "outputs": [],
   "source": [
    "stems = stems.T"
   ]
  },
  {
   "cell_type": "code",
   "execution_count": null,
   "metadata": {},
   "outputs": [],
   "source": [
    "stems.shape"
   ]
  },
  {
   "cell_type": "code",
   "execution_count": null,
   "metadata": {},
   "outputs": [],
   "source": [
    "def display_clips(clips, sample_rate):\n",
    "    \"\"\"\n",
    "    Display audio clips.\n",
    "\n",
    "    Args:\n",
    "        clips (list or ndarray): List of audio clips or a single audio clip of shape (samples, 2) for stereo or (samples,) for mono.\n",
    "        sample_rate (int): Sample rate of the audio clips.\n",
    "\n",
    "    Returns:\n",
    "        None\n",
    "    \"\"\"\n",
    "    if clips.ndim == 1:\n",
    "        display(Audio(clips, rate=sample_rate))\n",
    "    if clips.ndim == 2:\n",
    "        display(Audio(clips.T, rate=sample_rate))\n",
    "    elif clips.ndim == 3:\n",
    "        for clip in clips:\n",
    "            display(Audio(clip.T, rate=sample_rate))"
   ]
  },
  {
   "cell_type": "code",
   "execution_count": null,
   "metadata": {},
   "outputs": [],
   "source": [
    "display_clips(stems[:, 0], sample_rate)"
   ]
  },
  {
   "cell_type": "code",
   "execution_count": null,
   "metadata": {},
   "outputs": [],
   "source": [
    "display_clips(stems, sample_rate)"
   ]
  },
  {
   "cell_type": "code",
   "execution_count": null,
   "metadata": {},
   "outputs": [],
   "source": [
    "save_stems(stems[None], sample_rate, OUT, \"kwoklo-stereo-test\")"
   ]
  }
 ],
 "metadata": {
  "kernelspec": {
   "display_name": "playg",
   "language": "python",
   "name": "python3"
  },
  "language_info": {
   "codemirror_mode": {
    "name": "ipython",
    "version": 3
   },
   "file_extension": ".py",
   "mimetype": "text/x-python",
   "name": "python",
   "nbconvert_exporter": "python",
   "pygments_lexer": "ipython3",
   "version": "3.8.13"
  }
 },
 "nbformat": 4,
 "nbformat_minor": 2
}
